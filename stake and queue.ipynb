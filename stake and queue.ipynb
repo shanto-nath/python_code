{
 "cells": [
  {
   "cell_type": "code",
   "execution_count": 19,
   "metadata": {},
   "outputs": [
    {
     "name": "stdout",
     "output_type": "stream",
     "text": [
      "5\n",
      "10\n",
      "15\n",
      "23\n",
      "30\n",
      "30\n",
      "23\n"
     ]
    }
   ],
   "source": [
    "class Queue:\n",
    "    \n",
    "    def __init__(self):\n",
    "        self.data = []\n",
    "\n",
    "    def is_empty(self):\n",
    "        return len(self.data) == 0   \n",
    "\n",
    "    def enqeueue(self , abc):\n",
    "        self.data.append(abc) \n",
    "\n",
    "    def pop(self):\n",
    "        if not self.is_empty():\n",
    "            return self.data.pop()\n",
    "        else:\n",
    "            print(\"Queue is empty.\")\n",
    "\n",
    "    def peek(self):\n",
    "        if not self.is_empty():\n",
    "            return self.data[-1]\n",
    "        else:\n",
    "            print(\"Queue is empty.\")\n",
    "\n",
    "    def size(self):\n",
    "        return len(self.data) \n",
    "    \n",
    "    def print_Queue(self):\n",
    "        if not self.is_empty():\n",
    "            for abc in self.data:\n",
    "                print(abc)\n",
    "\n",
    "        else:\n",
    "            print(\"This Queue is empty\")\n",
    "\n",
    "Queue = Queue()\n",
    "\n",
    "Queue.enqeueue(5)\n",
    "Queue.enqeueue(10)\n",
    "Queue.enqeueue(15)\n",
    "Queue.enqeueue(23)\n",
    "Queue.enqeueue(30)\n",
    "\n",
    "Queue.print_Queue()\n",
    "print(Queue.peek())\n",
    "Queue.pop()\n",
    "print(Queue.peek())\n",
    "\n",
    "# print(Queue.size()) \n",
    "# print(Queue.peek()) \n",
    "# Queue.pop()\n",
    "# print(Queue.peek()) \n",
    "# Queue.print_Queue() \n"
   ]
  },
  {
   "cell_type": "code",
   "execution_count": 26,
   "metadata": {},
   "outputs": [
    {
     "name": "stdout",
     "output_type": "stream",
     "text": [
      "5\n",
      "10\n",
      "15\n",
      "23\n",
      "30\n",
      "5\n",
      "5\n"
     ]
    }
   ],
   "source": [
    "class Queue:\n",
    "    \n",
    "    def __init__(self):\n",
    "        self.data = []\n",
    "\n",
    "    def is_empty(self):\n",
    "        return len(self.data) == 0   \n",
    "\n",
    "    def enqeueue(self , abc):\n",
    "        self.data.append(abc) \n",
    "\n",
    "    def dequeue(self):\n",
    "        if not self.is_empty():\n",
    "            return self.data.pop()\n",
    "        else:\n",
    "            print(\"Queue is empty.\")\n",
    "\n",
    "    def peek(self):\n",
    "        if not self.is_empty():\n",
    "            return self.data[0]\n",
    "        else:\n",
    "            print(\"Queue is empty.\")\n",
    "\n",
    "    def size(self):\n",
    "        return len(self.data) \n",
    "    \n",
    "    def print_Queue(self):\n",
    "        if not self.is_empty():\n",
    "            for abc in self.data:\n",
    "                print(abc)\n",
    "\n",
    "        else:\n",
    "            print(\"This Queue is empty\")\n",
    "\n",
    "Queue = Queue()\n",
    "\n",
    "Queue.enqeueue(5)\n",
    "Queue.enqeueue(10)\n",
    "Queue.enqeueue(15)\n",
    "Queue.enqeueue(23)\n",
    "Queue.enqeueue(30)\n",
    "\n",
    "Queue.print_Queue()\n",
    "print(Queue.peek())\n",
    "Queue.dequeue()\n",
    "print(Queue.peek())"
   ]
  }
 ],
 "metadata": {
  "kernelspec": {
   "display_name": "Python 3",
   "language": "python",
   "name": "python3"
  },
  "language_info": {
   "codemirror_mode": {
    "name": "ipython",
    "version": 3
   },
   "file_extension": ".py",
   "mimetype": "text/x-python",
   "name": "python",
   "nbconvert_exporter": "python",
   "pygments_lexer": "ipython3",
   "version": "3.11.3"
  },
  "orig_nbformat": 4
 },
 "nbformat": 4,
 "nbformat_minor": 2
}
