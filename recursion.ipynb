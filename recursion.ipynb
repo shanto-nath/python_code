{
 "cells": [
  {
   "cell_type": "code",
   "execution_count": 18,
   "metadata": {},
   "outputs": [
    {
     "name": "stdout",
     "output_type": "stream",
     "text": [
      "73\n"
     ]
    }
   ],
   "source": [
    "#Write a Python program to calculate the sum of a list of numbers.\n",
    "\n",
    "def sum_list(list):\n",
    "    if len(list) == 1:\n",
    "        return list[0]\n",
    "    \n",
    "    else:\n",
    "        return list[0] + sum_list(list[1:])\n",
    "    \n",
    "\n",
    "print(sum_list([2,3,4,5,6,7,8,9,19,10]))\n"
   ]
  },
  {
   "cell_type": "code",
   "execution_count": 27,
   "metadata": {},
   "outputs": [
    {
     "name": "stdout",
     "output_type": "stream",
     "text": [
      "B13\n"
     ]
    }
   ],
   "source": [
    "#Write a Python program to convert an integer to a string in any base\n",
    "\n",
    "def to_string(n,base):\n",
    "   conver_tString = \"0123456789ABCDEF\"\n",
    "   if n < base:\n",
    "      return conver_tString[n]\n",
    "   else:\n",
    "      return to_string(n//base,base) + conver_tString[n % base]\n",
    "\n",
    "print(to_string(2835,16))\n"
   ]
  },
  {
   "cell_type": "code",
   "execution_count": 8,
   "metadata": {},
   "outputs": [
    {
     "name": "stdout",
     "output_type": "stream",
     "text": [
      "1->2->3->4->5->6->7->\n",
      "1-->3-->5-->7-->\n",
      "\n",
      "7->6->5->4->3->2->1->"
     ]
    }
   ],
   "source": [
    "class Node:\n",
    "    def __init__(self,data) -> None:\n",
    "        self.data=data\n",
    "        self.next=None \n",
    "class LinkedList:\n",
    "    def __init__(self) -> None:\n",
    "        self.head=None\n",
    "    def insert(self,value):\n",
    "        if self.head==None:\n",
    "            self.head=Node(value)\n",
    "        else:\n",
    "            curr=self.head\n",
    "            while curr.next!=None:\n",
    "                curr=curr.next\n",
    "            curr.next=Node(value)\n",
    "    def print_list(self):\n",
    "        curr=self.head\n",
    "        while curr!=None:\n",
    "            print(curr.data,end=\"->\")\n",
    "            curr=curr.next\n",
    "    def print_alternate_list(self,node,number):\n",
    "        if node==None:\n",
    "            return\n",
    "        if number %2!=0:\n",
    "            print(node.data,end=\"-->\")\n",
    "        else:\n",
    "            pass\n",
    "        self.print_alternate_list(node.next,number+1)\n",
    "    def deleteKnodes(self,K,i=0):\n",
    "        if i>=K:\n",
    "            return\n",
    "        self.head=self.head.next\n",
    "        self.deleteKnodes(K,i+1)\n",
    "    def printreverse(self,node):\n",
    "        if node==None:\n",
    "            return\n",
    "        self.printreverse(node.next)\n",
    "        print(node.data,end=\"->\")\n",
    "        \n",
    "if __name__==\"__main__\":\n",
    "    list=LinkedList()\n",
    "    list.insert(1)\n",
    "    list.insert(2)\n",
    "    list.insert(3)\n",
    "    list.insert(4)\n",
    "    list.insert(5)\n",
    "    list.insert(6)\n",
    "    list.insert(7)\n",
    "    list.print_list()\n",
    "    print()\n",
    "    list.print_alternate_list(list.head,1)\n",
    "    #list.deleteKnodes(5)\n",
    "    print()\n",
    "    #list.print_list()\n",
    "    print()\n",
    "    list.printreverse(list.head)"
   ]
  },
  {
   "cell_type": "code",
   "execution_count": 9,
   "metadata": {},
   "outputs": [
    {
     "name": "stdout",
     "output_type": "stream",
     "text": [
      "1->2->3->4->5->6->7->\n",
      "\n"
     ]
    }
   ],
   "source": [
    "class Node:\n",
    "    def __init__(self,data) -> None:\n",
    "        self.data=data\n",
    "        self.next=None \n",
    "class LinkedList:\n",
    "    def __init__(self) -> None:\n",
    "        self.head=None\n",
    "    def insert(self,value):\n",
    "        if self.head==None:\n",
    "            self.head=Node(value)\n",
    "        else:\n",
    "            curr=self.head\n",
    "            while curr.next!=None:\n",
    "                curr=curr.next\n",
    "            curr.next=Node(value)\n",
    "    def print_list(self):\n",
    "        curr=self.head\n",
    "        while curr!=None:\n",
    "            print(curr.data,end=\"->\")\n",
    "            curr=curr.next\n",
    "    def deleteKnodes(self,K,i=0):\n",
    "        if i>=K:\n",
    "            return\n",
    "        self.head=self.head.next\n",
    "        self.deleteKnodes(K,i+1)\n",
    "    def printreverse(self,node):\n",
    "        if node==None:\n",
    "            return\n",
    "        self.printreverse(node.next)\n",
    "        print(node.data,end=\"->\")\n",
    "        \n",
    "if __name__==\"__main__\":\n",
    "    list=LinkedList()\n",
    "    list.insert(1)\n",
    "    list.insert(2)\n",
    "    list.insert(3)\n",
    "    list.insert(4)\n",
    "    list.insert(5)\n",
    "    list.insert(6)\n",
    "    list.insert(7)\n",
    "    list.print_list()\n",
    "    print()\n",
    "    \n",
    "    list.deleteKnodes(5)\n",
    "    print()\n",
    "    #list.print_list()\n",
    "    "
   ]
  },
  {
   "cell_type": "code",
   "execution_count": 10,
   "metadata": {},
   "outputs": [
    {
     "name": "stdout",
     "output_type": "stream",
     "text": [
      "1->2->3->4->5->6->7->\n",
      "\n",
      "\n",
      "7->6->5->4->3->2->1->\n"
     ]
    }
   ],
   "source": [
    "class Node:\n",
    "    def __init__(self,data) -> None:\n",
    "        self.data=data\n",
    "        self.next=None\n",
    "        self.prev=None\n",
    "\n",
    "class doublylinkedlist:\n",
    "    def __init__(self) -> None:\n",
    "        self.head=None\n",
    "\n",
    "      \n",
    "    def insert(self,value):\n",
    "        \n",
    "        if self.head==None:\n",
    "            self.head=Node(value)\n",
    "\n",
    "        else:\n",
    "            curr=self.head\n",
    "            while curr.next!=None:\n",
    "                curr=curr.next\n",
    "            newnode=Node(value)\n",
    "            newnode.prev=curr\n",
    "            curr.next=newnode\n",
    "\n",
    "    def reverse_list(self,prev,node):\n",
    "        if node==None:\n",
    "            self.head=prev\n",
    "            return\n",
    "        nextnode=node.next\n",
    "        node.next=node.prev\n",
    "        node.prev=nextnode\n",
    "        self.reverse_list(node,nextnode)\n",
    "\n",
    "    def print_list(self):\n",
    "        curr=self.head\n",
    "        while curr!=None:\n",
    "            print(curr.data,end=\"->\")\n",
    "            curr=curr.next\n",
    "        print()\n",
    "\n",
    "if __name__==\"__main__\":\n",
    "    list=doublylinkedlist()\n",
    "    list.insert(1)\n",
    "    list.insert(2)\n",
    "    list.insert(3)\n",
    "    list.insert(4)\n",
    "    list.insert(5)\n",
    "    list.insert(6)\n",
    "    list.insert(7)\n",
    "    list.print_list()\n",
    "    print()\n",
    "    print()\n",
    "    list.reverse_list(None,list.head)\n",
    "    list.print_list()\n"
   ]
  },
  {
   "cell_type": "code",
   "execution_count": 14,
   "metadata": {},
   "outputs": [
    {
     "name": "stdout",
     "output_type": "stream",
     "text": [
      "-9\n"
     ]
    }
   ],
   "source": [
    "def min_rec(arr,min,i=0):\n",
    "    \n",
    "    if i==len(arr):\n",
    "        print(min)\n",
    "        return min\n",
    "    \n",
    "    if min>arr[i]:\n",
    "        min=arr[i]\n",
    "    min_rec(arr,min,i+1)\n",
    "\n",
    "if __name__=='__main__':\n",
    "    \n",
    "    list=[1,6,4,-3,5,2,-9]\n",
    "    min_rec(list,list[0],0)"
   ]
  },
  {
   "cell_type": "code",
   "execution_count": 15,
   "metadata": {},
   "outputs": [
    {
     "name": "stdout",
     "output_type": "stream",
     "text": [
      "1->2->3->4->5->6->7->\n",
      "\n",
      "7->6->5->4->3->2->1->"
     ]
    }
   ],
   "source": [
    "class Node:\n",
    "    def __init__(self,data) -> None:\n",
    "        self.data=data\n",
    "        self.next=None \n",
    "class LinkedList:\n",
    "    def __init__(self) -> None:\n",
    "        self.head=None\n",
    "    def insert(self,value):\n",
    "        if self.head==None:\n",
    "            self.head=Node(value)\n",
    "        else:\n",
    "            curr=self.head\n",
    "            while curr.next!=None:\n",
    "                curr=curr.next\n",
    "            curr.next=Node(value)\n",
    "    def print_list(self):\n",
    "        curr=self.head\n",
    "        while curr!=None:\n",
    "            print(curr.data,end=\"->\")\n",
    "            curr=curr.next\n",
    "    def printreverse(self,node):\n",
    "        if node==None:\n",
    "            return\n",
    "        self.printreverse(node.next)\n",
    "        print(node.data,end=\"->\")\n",
    "        \n",
    "if __name__==\"__main__\":\n",
    "    list=LinkedList()\n",
    "    list.insert(1)\n",
    "    list.insert(2)\n",
    "    list.insert(3)\n",
    "    list.insert(4)\n",
    "    list.insert(5)\n",
    "    list.insert(6)\n",
    "    list.insert(7)\n",
    "    list.print_list()\n",
    "    print()\n",
    "    print()\n",
    "    list.printreverse(list.head)"
   ]
  },
  {
   "cell_type": "code",
   "execution_count": 16,
   "metadata": {},
   "outputs": [
    {
     "name": "stdout",
     "output_type": "stream",
     "text": [
      "1->2->3->4->5->6->7->\n",
      "\n",
      "7->6->5->4->3->2->1->"
     ]
    }
   ],
   "source": [
    "class Node:\n",
    "    def __init__(self,data) -> None:\n",
    "        self.data=data\n",
    "        self.next=None \n",
    "class LinkedList:\n",
    "    def __init__(self) -> None:\n",
    "        self.head=None\n",
    "    def insert(self,value):\n",
    "        if self.head==None:\n",
    "            self.head=Node(value)\n",
    "        else:\n",
    "            curr=self.head\n",
    "            while curr.next!=None:\n",
    "                curr=curr.next\n",
    "            curr.next=Node(value)\n",
    "    def print_list(self):\n",
    "        curr=self.head\n",
    "        while curr!=None:\n",
    "            print(curr.data,end=\"->\")\n",
    "            curr=curr.next\n",
    "    def printreverse(self,prev,node):\n",
    "        if node==None:\n",
    "            self.head=prev\n",
    "            return\n",
    "        nextnode=node.next\n",
    "        node.next=prev\n",
    "        self.printreverse(node,nextnode)\n",
    "        \n",
    "if __name__==\"__main__\":\n",
    "    list=LinkedList()\n",
    "    list.insert(1)\n",
    "    list.insert(2)\n",
    "    list.insert(3)\n",
    "    list.insert(4)\n",
    "    list.insert(5)\n",
    "    list.insert(6)\n",
    "    list.insert(7)\n",
    "    list.print_list()\n",
    "    print()\n",
    "    print()\n",
    "    list.printreverse(None,list.head)\n",
    "    list.print_list()"
   ]
  }
 ],
 "metadata": {
  "kernelspec": {
   "display_name": "Python 3",
   "language": "python",
   "name": "python3"
  },
  "language_info": {
   "codemirror_mode": {
    "name": "ipython",
    "version": 3
   },
   "file_extension": ".py",
   "mimetype": "text/x-python",
   "name": "python",
   "nbconvert_exporter": "python",
   "pygments_lexer": "ipython3",
   "version": "3.11.3"
  },
  "orig_nbformat": 4
 },
 "nbformat": 4,
 "nbformat_minor": 2
}
