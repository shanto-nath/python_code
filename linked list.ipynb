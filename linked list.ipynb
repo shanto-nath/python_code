{
 "cells": [
  {
   "cell_type": "code",
   "execution_count": 2,
   "metadata": {},
   "outputs": [
    {
     "name": "stdout",
     "output_type": "stream",
     "text": [
      "5=>10=>20=>30=>40=>50=>\n",
      "10=>20=>30=>40=>50=>"
     ]
    }
   ],
   "source": [
    "class node:\n",
    "    def __init__(self,data):\n",
    "        self.data = data\n",
    "        self.next = None\n",
    "\n",
    "class LinkedList:\n",
    "    def __init__(self):\n",
    "        self.start = None\n",
    "\n",
    "    def InsertLast(self,value):\n",
    "        NewNode = node(value)\n",
    "        if (self.start == None):\n",
    "            self.start = NewNode\n",
    "\n",
    "        else:\n",
    "            temp = self.start\n",
    "            while (temp.next != None):\n",
    "                temp = temp.next\n",
    "            temp.next = NewNode\n",
    "\n",
    "    def DeleteFirst(self):\n",
    "        if (self.start == None):\n",
    "            print(\"List is empty\")\n",
    "\n",
    "        else:\n",
    "            self.start = self.start.next\n",
    "\n",
    "    def view(self):\n",
    "        if (self.start == None):\n",
    "            print(\"List is empty\")\n",
    "\n",
    "        else:\n",
    "            temp = self.start\n",
    "            while (temp != None):\n",
    "                print(temp.data, end = \"=>\")\n",
    "                temp = temp.next\n",
    "\n",
    "\n",
    "obj = LinkedList()\n",
    "obj.InsertLast(5)\n",
    "obj.InsertLast(10)\n",
    "obj.InsertLast(20)\n",
    "obj.InsertLast(30)\n",
    "obj.InsertLast(40)\n",
    "obj.InsertLast(50)\n",
    "obj.view()\n",
    "obj.DeleteFirst()\n",
    "print()\n",
    "obj.view()\n",
    "            "
   ]
  },
  {
   "cell_type": "code",
   "execution_count": 9,
   "metadata": {},
   "outputs": [
    {
     "name": "stdout",
     "output_type": "stream",
     "text": [
      "Linked list before inserting 5:\n",
      "3=>6=>7=>8=>None\n",
      "Linked list after inserting 5:\n",
      "3=>5=>6=>7=>8=>None\n"
     ]
    }
   ],
   "source": [
    "class Node:\n",
    "    def __init__(self, data=None):\n",
    "        self.data = data\n",
    "        self.next = None\n",
    "\n",
    "\n",
    "class LinkedList:\n",
    "    def __init__(self):\n",
    "        self.head = None\n",
    "\n",
    "    def sorted_insert(self, v):\n",
    "        new_node = Node(v)\n",
    "        \n",
    "        # Check if the list is empty or v is smaller than the first element\n",
    "        if self.head is None or v < self.head.data:\n",
    "            new_node.next = self.head\n",
    "            self.head = new_node\n",
    "            return\n",
    "\n",
    "        # Find the appropriate position to insert the new node\n",
    "        current = self.head\n",
    "        while current.next is not None and current.next.data < v:\n",
    "            current = current.next\n",
    "\n",
    "        # Insert the new node after the current node\n",
    "        new_node.next = current.next\n",
    "        current.next = new_node\n",
    "\n",
    "    def display(self):\n",
    "        current = self.head\n",
    "        while current is not None:\n",
    "            print(current.data, end=\"=>\")\n",
    "            current = current.next\n",
    "        print(\"None\")\n",
    "\n",
    "\n",
    "# Example usage:\n",
    "linked_list = LinkedList()\n",
    "linked_list.sorted_insert(3)\n",
    "linked_list.sorted_insert(6)\n",
    "linked_list.sorted_insert(7)\n",
    "linked_list.sorted_insert(8)\n",
    "\n",
    "print(\"Linked list before inserting 5:\")\n",
    "linked_list.display()\n",
    "\n",
    "linked_list.sorted_insert(5)\n",
    "\n",
    "print(\"Linked list after inserting 5:\")\n",
    "linked_list.display()\n"
   ]
  }
 ],
 "metadata": {
  "kernelspec": {
   "display_name": "Python 3",
   "language": "python",
   "name": "python3"
  },
  "language_info": {
   "codemirror_mode": {
    "name": "ipython",
    "version": 3
   },
   "file_extension": ".py",
   "mimetype": "text/x-python",
   "name": "python",
   "nbconvert_exporter": "python",
   "pygments_lexer": "ipython3",
   "version": "3.11.3"
  },
  "orig_nbformat": 4
 },
 "nbformat": 4,
 "nbformat_minor": 2
}
