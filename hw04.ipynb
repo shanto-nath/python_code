{
 "cells": [
  {
   "cell_type": "code",
   "execution_count": 2,
   "metadata": {},
   "outputs": [
    {
     "name": "stdout",
     "output_type": "stream",
     "text": [
      "<function sum_of_n_numbers at 0x00000243B412D620>\n"
     ]
    }
   ],
   "source": [
    "num = int(input('Enter a num: '))\n",
    "def sum_of_n_numbers(num):\n",
    "    if len(num) == 1:\n",
    "        return num[0]\n",
    "    else:\n",
    "        return num[0] + sum_of_n_numbers(num[1:])\n",
    "        \n",
    "print(sum_of_n_numbers)"
   ]
  }
 ],
 "metadata": {
  "kernelspec": {
   "display_name": "Python 3",
   "language": "python",
   "name": "python3"
  },
  "language_info": {
   "codemirror_mode": {
    "name": "ipython",
    "version": 3
   },
   "file_extension": ".py",
   "mimetype": "text/x-python",
   "name": "python",
   "nbconvert_exporter": "python",
   "pygments_lexer": "ipython3",
   "version": "3.11.3"
  },
  "orig_nbformat": 4
 },
 "nbformat": 4,
 "nbformat_minor": 2
}
