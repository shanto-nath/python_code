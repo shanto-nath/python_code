{
 "cells": [
  {
   "cell_type": "code",
   "execution_count": 2,
   "metadata": {},
   "outputs": [
    {
     "name": "stdout",
     "output_type": "stream",
     "text": [
      "5=>6=>7=>8=>9\n",
      "Average: 7.0\n"
     ]
    }
   ],
   "source": [
    "class Node:\n",
    "    def __init__(self, data):\n",
    "        self.data = data\n",
    "        self.next = None\n",
    "\n",
    "class SinglyLinkedList:\n",
    "    def __init__(self):\n",
    "        self.head = None\n",
    "        self.size = 0\n",
    "\n",
    "    def append(self, value):\n",
    "        new_node = Node(value)\n",
    "        if self.head is None:\n",
    "            self.head = new_node\n",
    "        else:\n",
    "            current_node = self.head\n",
    "            while current_node.next is not None:\n",
    "                current_node = current_node.next\n",
    "            current_node.next = new_node\n",
    "        self.size += 1\n",
    "\n",
    "    def print_all(self):\n",
    "        current_node = self.head\n",
    "        while current_node is not None:\n",
    "            if current_node.next is None:\n",
    "                print(current_node.data)\n",
    "            else:\n",
    "                print(current_node.data, end='=>')\n",
    "            current_node = current_node.next\n",
    "\n",
    "    def getAverage(self, Head):\n",
    "        current_node = Head\n",
    "        count = 0\n",
    "        total_sum = 0\n",
    "        if current_node is None:\n",
    "            print(\"Empty List\")\n",
    "            return None\n",
    "        else:\n",
    "            while current_node is not None:\n",
    "                total_sum += current_node.data\n",
    "                count += 1\n",
    "                current_node = current_node.next\n",
    "            return total_sum / count\n",
    "\n",
    "s = SinglyLinkedList()\n",
    "s.append(5)\n",
    "s.append(6)\n",
    "s.append(7)\n",
    "s.append(8)\n",
    "s.append(9)\n",
    "s.print_all()\n",
    "avg = s.getAverage(s.head)\n",
    "print(\"Average:\", avg)\n"
   ]
  }
 ],
 "metadata": {
  "kernelspec": {
   "display_name": "Python 3",
   "language": "python",
   "name": "python3"
  },
  "language_info": {
   "codemirror_mode": {
    "name": "ipython",
    "version": 3
   },
   "file_extension": ".py",
   "mimetype": "text/x-python",
   "name": "python",
   "nbconvert_exporter": "python",
   "pygments_lexer": "ipython3",
   "version": "3.11.3"
  },
  "orig_nbformat": 4
 },
 "nbformat": 4,
 "nbformat_minor": 2
}
