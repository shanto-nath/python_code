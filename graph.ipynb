{
 "cells": [
  {
   "cell_type": "code",
   "execution_count": 13,
   "metadata": {},
   "outputs": [
    {
     "name": "stdout",
     "output_type": "stream",
     "text": [
      "{101: 'Shanto', 102: 'Polok', 103: 'Soham'}\n"
     ]
    }
   ],
   "source": [
    "students = {\n",
    "  101: 'Shanto',\n",
    "  102: 'Polok',\n",
    "  103: 'Soham'\n",
    "}\n",
    "\n",
    "print(students)"
   ]
  },
  {
   "cell_type": "code",
   "execution_count": 16,
   "metadata": {},
   "outputs": [
    {
     "name": "stdout",
     "output_type": "stream",
     "text": [
      "Shanto\n"
     ]
    }
   ],
   "source": [
    "print(students[101])"
   ]
  },
  {
   "cell_type": "code",
   "execution_count": 18,
   "metadata": {},
   "outputs": [
    {
     "data": {
      "text/plain": [
       "['Polok', 'Shanto', 'Soham']"
      ]
     },
     "execution_count": 18,
     "metadata": {},
     "output_type": "execute_result"
    }
   ],
   "source": [
    "sorted(list(students.keys()))\n",
    "sorted(list(students.values()))"
   ]
  },
  {
   "cell_type": "code",
   "execution_count": 20,
   "metadata": {},
   "outputs": [
    {
     "data": {
      "text/plain": [
       "{101: 'Shanta', 102: 'Polok', 103: 'Soham'}"
      ]
     },
     "execution_count": 20,
     "metadata": {},
     "output_type": "execute_result"
    }
   ],
   "source": [
    "students[101] = \"Shanta\"\n",
    "students"
   ]
  },
  {
   "cell_type": "code",
   "execution_count": 21,
   "metadata": {},
   "outputs": [
    {
     "data": {
      "text/plain": [
       "{101: 'Shanta', 102: 'Polok', 103: 'Soham', '108': 'Oishee'}"
      ]
     },
     "execution_count": 21,
     "metadata": {},
     "output_type": "execute_result"
    }
   ],
   "source": [
    "students.update({\"108\": \"Oishee\"})\n",
    "students"
   ]
  },
  {
   "cell_type": "code",
   "execution_count": 3,
   "metadata": {},
   "outputs": [
    {
     "name": "stdout",
     "output_type": "stream",
     "text": [
      "Counter({'B': 5, 'A': 3, 'C': 2})\n",
      "Counter({'b': 4, 'd': 2, 'a': 1, 'c': 1})\n"
     ]
    },
    {
     "data": {
      "text/plain": [
       "3"
      ]
     },
     "execution_count": 3,
     "metadata": {},
     "output_type": "execute_result"
    }
   ],
   "source": [
    "from collections import Counter\n",
    "print(Counter(['B','B','A','B','C','A','B',\n",
    "               'B','A','C']))\n",
    "c = Counter(['B','B','A','B','C','A','B',\n",
    "               'B','A','C'])\n",
    "print(Counter(\"abcbbbdd\"))\n",
    "c['A']"
   ]
  },
  {
   "cell_type": "code",
   "execution_count": 15,
   "metadata": {},
   "outputs": [
    {
     "name": "stdout",
     "output_type": "stream",
     "text": [
      "a : ['c', 'd', 'e']\n",
      "b : []\n",
      "c : ['a', 'e']\n",
      "d : ['a', 'e']\n",
      "e : ['a', 'c', 'd']\n",
      "OutDegree of a : 3\n",
      "OutDegree of b : 0\n",
      "OutDegree of c : 2\n",
      "OutDegree of d : 2\n",
      "OutDegree of e : 3\n",
      "Indegree: 3\n",
      "['c', 'd', 'e', 'a', 'e', 'a', 'e', 'a', 'c', 'd']\n",
      "Indegree of c : 2\n",
      "Indegree of d : 2\n",
      "Indegree of e : 3\n",
      "Indegree of a : 3\n"
     ]
    }
   ],
   "source": [
    "from collections import Counter\n",
    "\n",
    "graph = dict()\n",
    "graph['a'] = ['c', 'd', 'e']\n",
    "graph['b'] = []\n",
    "graph['c'] = [ 'a', 'e']\n",
    "graph['d'] = ['a','e']\n",
    "graph['e'] = ['a', 'c', 'd']\n",
    "\n",
    "for x in graph:\n",
    "  print(x, \":\", graph[x])\n",
    "\n",
    "\n",
    "\n",
    "#degree of undirected graph\n",
    "#outdegree of directed graph\n",
    "for x in graph:\n",
    "  print(\"OutDegree of\", x, \":\", len(graph[x]))\n",
    "\n",
    "z = 0\n",
    "for x in graph:\n",
    "  if 'a' in graph[x]:\n",
    "    z += 1\n",
    "\n",
    "print(\"Indegree:\", z)\n",
    "#indegree of directed graph\n",
    "merged_list = []\n",
    "for x in graph:\n",
    "  merged_list += graph[x]   #merging  adjacent lists for all nodes. So that we can calculate indegrees\n",
    "print(merged_list)\n",
    "\n",
    "indegree = Counter(merged_list)\n",
    "for x in indegree:\n",
    "  print(\"Indegree of\", x, \":\", indegree[x])"
   ]
  }
 ],
 "metadata": {
  "kernelspec": {
   "display_name": "Python 3",
   "language": "python",
   "name": "python3"
  },
  "language_info": {
   "codemirror_mode": {
    "name": "ipython",
    "version": 3
   },
   "file_extension": ".py",
   "mimetype": "text/x-python",
   "name": "python",
   "nbconvert_exporter": "python",
   "pygments_lexer": "ipython3",
   "version": "3.11.3"
  },
  "orig_nbformat": 4
 },
 "nbformat": 4,
 "nbformat_minor": 2
}
