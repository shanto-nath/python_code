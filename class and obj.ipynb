{
 "cells": [
  {
   "cell_type": "code",
   "execution_count": 1,
   "metadata": {},
   "outputs": [
    {
     "name": "stdout",
     "output_type": "stream",
     "text": [
      "Shanto from Muktarbari\n"
     ]
    }
   ],
   "source": [
    "#CS50'S OOP\n",
    "def main():\n",
    "    name = get_name()\n",
    "    house = get_house()\n",
    "    print(f\"{name} from {house}\")\n",
    "\n",
    "def get_name():\n",
    "    return input(\"Name\")\n",
    "\n",
    "def get_house():\n",
    "    return input(\"House\")\n",
    "\n",
    "\n",
    "if __name__ == \"__main__\":\n",
    "    main()"
   ]
  },
  {
   "cell_type": "code",
   "execution_count": 24,
   "metadata": {},
   "outputs": [
    {
     "name": "stdout",
     "output_type": "stream",
     "text": [
      "Shanto Deb Nath\n"
     ]
    }
   ],
   "source": [
    "class person:\n",
    "    def __init__(self,age,weight,first_name,last_name):\n",
    "        self.age = age\n",
    "        self.weight = weight\n",
    "        self.first_name = first_name\n",
    "        self.last_name = last_name\n",
    "\n",
    "\n",
    "user = person(22, 68 , 'Shanto' , 'Deb Nath')\n",
    "print(user.first_name, user.last_name)\n",
    "\n",
    "\n",
    "    "
   ]
  },
  {
   "cell_type": "code",
   "execution_count": 20,
   "metadata": {},
   "outputs": [
    {
     "name": "stdout",
     "output_type": "stream",
     "text": [
      "Mugen Train arc\n",
      "322\n"
     ]
    }
   ],
   "source": [
    "class Manga:\n",
    "    def __init__(self):\n",
    "        self.n_chapters = 322\n",
    "        self.read()\n",
    "\n",
    "    def read(self):\n",
    "        print(\"Mugen Train arc\" )\n",
    "\n",
    "my_manga = Manga()\n",
    "print(my_manga.n_chapters)\n"
   ]
  },
  {
   "cell_type": "code",
   "execution_count": 22,
   "metadata": {},
   "outputs": [
    {
     "name": "stdout",
     "output_type": "stream",
     "text": [
      "Mugen Train arc\n",
      "322\n",
      "MUGEN TRAIN ARC\n"
     ]
    }
   ],
   "source": [
    "class Manga:\n",
    "    def __init__(self):\n",
    "        self.n_chapters = 322\n",
    "        self.read()\n",
    "\n",
    "    def read(self):\n",
    "        print(\"Mugen Train arc\" )\n",
    "\n",
    "class comic(Manga):\n",
    "    \n",
    "    def readaudiobook(self):\n",
    "        print(\"Mugen train arc\".upper())\n",
    "\n",
    "my_manga = comic()\n",
    "print(my_manga.n_chapters)\n",
    "my_manga.readaudiobook()\n"
   ]
  },
  {
   "cell_type": "code",
   "execution_count": 34,
   "metadata": {},
   "outputs": [
    {
     "name": "stdout",
     "output_type": "stream",
     "text": [
      "Shanto\n",
      "22\n"
     ]
    }
   ],
   "source": [
    "class person:\n",
    "  def __init__(self, name, age):\n",
    "    self.name = name\n",
    "    self.age = age\n",
    "\n",
    "p1 = person(\"Shanto\", 22)\n",
    "\n",
    "print(p1.name)\n",
    "print(p1.age)"
   ]
  },
  {
   "cell_type": "code",
   "execution_count": 36,
   "metadata": {},
   "outputs": [
    {
     "name": "stdout",
     "output_type": "stream",
     "text": [
      "John(36)\n"
     ]
    }
   ],
   "source": [
    "class Person:\n",
    "  def __init__(self, name, age):\n",
    "    self.name = name\n",
    "    self.age = age\n",
    "\n",
    "  def __str__(self):\n",
    "    return f\"{self.name}({self.age})\"\n",
    "\n",
    "p1 = Person(\"John\", 36)\n",
    "\n",
    "print(p1)"
   ]
  },
  {
   "cell_type": "code",
   "execution_count": 38,
   "metadata": {},
   "outputs": [
    {
     "name": "stdout",
     "output_type": "stream",
     "text": [
      "Hello! My name is Shanto nath.\n",
      "My age is 22\n"
     ]
    }
   ],
   "source": [
    "class Person:\n",
    "  def __init__(self, name, age):\n",
    "    self.name = name\n",
    "    self.age = age\n",
    "\n",
    "\n",
    "  def greet(self):\n",
    "    print(\"Hello! My name is\", self.name)\n",
    "    print(\"My age is\", self.age)\n",
    "\n",
    "p1 = Person(\"Shanto nath.\", 22)\n",
    "p1.greet()"
   ]
  },
  {
   "cell_type": "code",
   "execution_count": 42,
   "metadata": {},
   "outputs": [
    {
     "name": "stdout",
     "output_type": "stream",
     "text": [
      "Hello my name is Shanto.\n",
      "My age is 22\n"
     ]
    }
   ],
   "source": [
    "#Use the words mysillyobject and abc instead of self:\n",
    "class Person:\n",
    "  def __init__(mysillyobject, name, age):\n",
    "    mysillyobject.name = name\n",
    "    mysillyobject.age = age\n",
    "\n",
    "  def myfunc(abc):\n",
    "    print(\"Hello my name is \" + abc.name)\n",
    "    print(\"My age is\" , abc.age )\n",
    "\n",
    "p1 = Person(\"Shanto.\", 22)\n",
    "p1.myfunc()"
   ]
  },
  {
   "cell_type": "code",
   "execution_count": 57,
   "metadata": {},
   "outputs": [
    {
     "name": "stdout",
     "output_type": "stream",
     "text": [
      "Mike\n"
     ]
    }
   ],
   "source": [
    "class Person:\n",
    "  def __init__(self, fname):\n",
    "    self.firstname = fname\n",
    "\n",
    "  def printname(self):\n",
    "    print(self.firstname)\n",
    "\n",
    "class Student(Person):\n",
    "  pass\n",
    "\n",
    "x = Student(\"Mike\")\n",
    "x.printname()"
   ]
  },
  {
   "cell_type": "code",
   "execution_count": 74,
   "metadata": {},
   "outputs": [
    {
     "name": "stdout",
     "output_type": "stream",
     "text": [
      "Name: Shanto\n",
      "Sex: Male\n",
      "Profession: Software Engineer\n",
      "Shanto working as a Software Engineer and his sex is Male\n"
     ]
    }
   ],
   "source": [
    "class Person:\n",
    "\n",
    "    def __init__(self, name, sex, profession):\n",
    "        self.name = name\n",
    "        self.sex = sex\n",
    "        self.profession = profession\n",
    "\n",
    "    def show(self):\n",
    "        print('Name:', self.name)\n",
    "        print('Sex:', self.sex)\n",
    "        print('Profession:',self.profession)\n",
    "\n",
    "    def work(self):\n",
    "        print(self.name, 'working as a', self.profession, 'and his sex is' , self.sex)\n",
    "      \n",
    "shanto= Person('Shanto', 'Male', 'Software Engineer')\n",
    "\n",
    "shanto.show()\n",
    "shanto.work()"
   ]
  },
  {
   "cell_type": "code",
   "execution_count": 7,
   "metadata": {},
   "outputs": [
    {
     "name": "stdout",
     "output_type": "stream",
     "text": [
      "Rodger details:\n",
      "Rodger is a dog\n",
      "Breed:  Pug\n",
      "Color:  brown\n",
      "\n",
      "Buzo details:\n",
      "Buzo is a dog\n",
      "Breed:  Bulldog\n",
      "Color:  black\n",
      "\n",
      "Accessing class variable using class name\n",
      "dog\n"
     ]
    }
   ],
   "source": [
    "# Class for Dog\n",
    " \n",
    " \n",
    "class Dog:\n",
    "    animal = 'dog'\n",
    "\n",
    "    def __init__(self, breed, color):\n",
    " \n",
    "        # instance Variable\n",
    "        self.breed = breed\n",
    "        self.color = color\n",
    " \n",
    "Rodger = Dog(\"Pug\", \"brown\")\n",
    "Buzo = Dog(\"Bulldog\", \"black\")\n",
    " \n",
    "print('Rodger details:')\n",
    "print('Rodger is a', Rodger.animal)\n",
    "print('Breed: ', Rodger.breed)\n",
    "print('Color: ', Rodger.color)\n",
    " \n",
    "print('\\nBuzo details:')\n",
    "print('Buzo is a', Buzo.animal)\n",
    "print('Breed: ', Buzo.breed)\n",
    "print('Color: ', Buzo.color)\n",
    " \n",
    "print(\"\\nAccessing class variable using class name\")\n",
    "print(Dog.animal)"
   ]
  },
  {
   "cell_type": "code",
   "execution_count": 29,
   "metadata": {},
   "outputs": [
    {
     "name": "stdout",
     "output_type": "stream",
     "text": [
      "My name is Tom\n",
      "My color is red\n",
      "My weight is  30\n",
      "My name is Jerry\n",
      "My color is blue\n",
      "My weight is  40\n"
     ]
    }
   ],
   "source": [
    "#csdojo\n",
    "class Robot:\n",
    "    def __init__(meself, name, color, weight):\n",
    "        meself.name = name\n",
    "        meself.color = color\n",
    "        meself.weight = weight\n",
    "\n",
    "    def introduce_self(self):\n",
    "        print(\"My name is \" + self.name)\n",
    "        print(\"My color is \" + self.color)\n",
    "        print(\"My weight is \", self.weight)\n",
    "\n",
    "\n",
    "r1 = Robot(\"Tom\", \"red\", 30)\n",
    "r2 = Robot(\"Jerry\", \"blue\", 40)\n",
    "\n",
    "r1.introduce_self()\n",
    "\n",
    "r2.introduce_self()\n"
   ]
  },
  {
   "cell_type": "code",
   "execution_count": 40,
   "metadata": {},
   "outputs": [
    {
     "name": "stdout",
     "output_type": "stream",
     "text": [
      "My name is Jerry\n",
      "My color is blue\n",
      "My weight is  40\n",
      "My name is Alice\n"
     ]
    }
   ],
   "source": [
    "#cs dojo\n",
    "class Robot:\n",
    "    def __init__(self, n, c, w):\n",
    "        self.name = n\n",
    "        self.color = c\n",
    "        self.weight = w\n",
    "\n",
    "    def introduce_self(self):\n",
    "        print(\"My name is \" + self.name)\n",
    "        print(\"My color is \" + self.color)\n",
    "        print(\"My weight is \", self.weight)\n",
    "        \n",
    "\n",
    "class Person:\n",
    "    def __init__(self, n, p, i):\n",
    "        self.name = n\n",
    "        self.personality = p\n",
    "        self.isSitting = i\n",
    "\n",
    "    def sit_down(self):\n",
    "        print(\"My name is \" + self.name)\n",
    "\n",
    "\n",
    "r1 = Robot(\"Tom\", \"red\", 30)\n",
    "r2 = Robot(\"Jerry\", \"blue\", 40)\n",
    "\n",
    "p1 = Person(\"Alice\", \"aggressive\", False)\n",
    "p2 = Person(\"Becky\", \"aggressive\", True)\n",
    "\n",
    "p1.robot_owned = r2\n",
    "p2.robot_owned = r1\n",
    "\n",
    "\n",
    "p1.robot_owned.introduce_self()\n",
    "p1.sit_down()"
   ]
  },
  {
   "cell_type": "code",
   "execution_count": 4,
   "metadata": {},
   "outputs": [
    {
     "name": "stdout",
     "output_type": "stream",
     "text": [
      "250\n",
      "40\n"
     ]
    }
   ],
   "source": [
    "#Write a Python program to create a Vehicle class with max_speed and mileage instance attributes.\n",
    "\n",
    "class Vehicle:\n",
    "    def __init__(self, max_speed, mileage):\n",
    "        self.a = max_speed\n",
    "        self.b = mileage\n",
    "\n",
    "\n",
    "modelX = Vehicle(250, 40)\n",
    "print(modelX.a)\n",
    "print(modelX.b)"
   ]
  },
  {
   "cell_type": "code",
   "execution_count": 17,
   "metadata": {},
   "outputs": [],
   "source": [
    "#OOP Exercise 2: Create a Vehicle class without any variables and methods\n",
    "\n",
    "class Vehicle:\n",
    "    pass"
   ]
  },
  {
   "cell_type": "code",
   "execution_count": 5,
   "metadata": {},
   "outputs": [
    {
     "name": "stdout",
     "output_type": "stream",
     "text": [
      "School bus name: Volvo\n",
      "MAx speed: 180\n",
      "Mileage: 12\n"
     ]
    }
   ],
   "source": [
    "#Create a child class Bus that will inherit all of the variables and methods of the Vehicle class\n",
    "#OUTPUT :Vehicle Name: School Volvo Speed: 180 Mileage: 12\n",
    "\n",
    "class Vehicle:\n",
    "\n",
    "    def __init__(self, name, max_speed, mileage):\n",
    "        self.name = name\n",
    "        self.max_speed = max_speed\n",
    "        self.mileage = mileage\n",
    "\n",
    "school_bus = Vehicle(\"Volvo\", 180 , 12)\n",
    "\n",
    "print(\"School bus name: \" + school_bus.name)\n",
    "print(\"MAx speed:\",school_bus.max_speed)\n",
    "print(\"Mileage:\", school_bus.mileage)"
   ]
  },
  {
   "cell_type": "code",
   "execution_count": 21,
   "metadata": {},
   "outputs": [
    {
     "name": "stdout",
     "output_type": "stream",
     "text": [
      "The seating capacity of a School Volvo is 50 passengers\n"
     ]
    }
   ],
   "source": [
    "#Create a Bus class that inherits from the Vehicle class. Give the capacity argument of Bus.seating_capacity() a default value of 50.\n",
    "\n",
    "#output = The seating capacity of a bus is 50 passengers\n",
    "\n",
    "class Vehicle:\n",
    "    def __init__(self, name, max_speed, mileage):\n",
    "        self.name = name\n",
    "        self.max_speed = max_speed\n",
    "        self.mileage = mileage\n",
    "\n",
    "    def seating_capacity(self, capacity):\n",
    "        return f\"The seating capacity of a {self.name} is {capacity} passengers\"\n",
    "    \n",
    "\n",
    "\n",
    "class Bus(Vehicle):\n",
    "    def seating_capacity(self, capacity = 50):\n",
    "        return super().seating_capacity(capacity = 50)\n",
    "\n",
    "school_bus = Bus(\"School Volvo\" ,180 , 13)\n",
    "print(school_bus.seating_capacity())       "
   ]
  },
  {
   "cell_type": "code",
   "execution_count": 23,
   "metadata": {},
   "outputs": [
    {
     "name": "stdout",
     "output_type": "stream",
     "text": [
      "Black School Volvo 180 13\n",
      "Black Pagani 300 45\n"
     ]
    }
   ],
   "source": [
    "# Define a property that must have the same value for every class instance (object)\n",
    "#Color: White, Vehicle name: School Volvo, Speed: 180, Mileage: 12\n",
    "# Color: White, Vehicle name: Audi Q5, Speed: 240, Mileage: 18\n",
    "\n",
    "class Vehicle:\n",
    "    color = \"Black\"\n",
    "\n",
    "    def __init__(self, name, max_speed, mileage):\n",
    "        self.name = name\n",
    "        self.max_speed = max_speed\n",
    "        self.mileage = mileage\n",
    "\n",
    "class Bus(Vehicle):\n",
    "    pass\n",
    "\n",
    "class Car(Vehicle):\n",
    "    pass\n",
    "\n",
    "school_bus = Bus(\"School Volvo\" ,180 , 13)\n",
    "print(school_bus.color , school_bus.name , school_bus.max_speed,school_bus.mileage)\n",
    "\n",
    "car = Car(\"Pagani\", 300, 45)\n",
    "print(car.color,car.name,car.max_speed,car.mileage)"
   ]
  },
  {
   "cell_type": "code",
   "execution_count": 9,
   "metadata": {},
   "outputs": [
    {
     "name": "stdout",
     "output_type": "stream",
     "text": [
      "Total Bus fare is: 6930.0\n"
     ]
    }
   ],
   "source": [
    "# Create a Bus child class that inherits from the Vehicle class. The default fare charge of any vehicle is seating capacity * 100. if Vehicle is Bus instance, we need to add an extra 10% on full fare as a maintenance charge. So total fare for bus instance will become the final amount = total fare + 10% of the total fare.\n",
    "\n",
    "class Vehicle:\n",
    "    def __init__(self, name, mileage, capacity):\n",
    "        self.name = name\n",
    "        self.mileage = mileage\n",
    "        self.capacity = capacity\n",
    "\n",
    "class Bus(Vehicle):\n",
    "    \n",
    "    def fare(self):\n",
    "        amount = self.capacity * 180\n",
    "        amount += amount * 10/100\n",
    "        return amount \n",
    "    \n",
    "School_bus = Bus(\"School Volvo\", 12, 35)\n",
    "print(\"Total Bus fare is:\", School_bus.fare())"
   ]
  },
  {
   "cell_type": "code",
   "execution_count": 3,
   "metadata": {},
   "outputs": [
    {
     "name": "stdout",
     "output_type": "stream",
     "text": [
      "My this month rent is =  5017.625\n"
     ]
    }
   ],
   "source": [
    "class houseRent():\n",
    "    def __init__(self,service_charge,wifi_bill,bua,room_rent):\n",
    "        self.service_charge = (a-25000)/8\n",
    "        self.wifi_bill = wifi_bill\n",
    "        self.bua = bua\n",
    "        self.room_rent = room_rent\n",
    "\n",
    "    \n",
    "    def in_amount(abc):\n",
    "        print(\"My this month rent is = \",abc.service_charge + abc.wifi_bill + abc.bua + abc.room_rent)\n",
    "\n",
    "a = int(input(\"What is the total house rent?\"))\n",
    "A = houseRent(a , 130,700,3250)\n",
    "A.in_amount()"
   ]
  },
  {
   "cell_type": "code",
   "execution_count": 1,
   "metadata": {},
   "outputs": [
    {
     "name": "stdout",
     "output_type": "stream",
     "text": [
      "G*L*TME\n"
     ]
    }
   ],
   "source": [
    "Msg1 = \"WeLcOME\"\n",
    "Msg2 = \"GUeSTs\"\n",
    "Msg3 = \"\"\n",
    "for i in range(0, len(Msg2) + 1):\n",
    "    if Msg1[i] >= \"A\" and Msg1[i] <= \"M\":\n",
    "        Msg3 = Msg3 + Msg1[i]\n",
    "    elif Msg1[i] >= \"N\" and Msg1[i] <= \"Z\":\n",
    "        Msg3 = Msg3 + Msg2[i]\n",
    "    else:\n",
    "        Msg3 = Msg3 + \"*\"\n",
    "print(Msg3)\n"
   ]
  },
  {
   "cell_type": "code",
   "execution_count": 8,
   "metadata": {},
   "outputs": [
    {
     "ename": "NameError",
     "evalue": "name 'dequeue' is not defined",
     "output_type": "error",
     "traceback": [
      "\u001b[1;31m---------------------------------------------------------------------------\u001b[0m",
      "\u001b[1;31mNameError\u001b[0m                                 Traceback (most recent call last)",
      "Cell \u001b[1;32mIn[8], line 28\u001b[0m\n\u001b[0;32m     25\u001b[0m        \u001b[39melse\u001b[39;00m:\n\u001b[0;32m     26\u001b[0m         \u001b[39mprint\u001b[39m(\u001b[39mself\u001b[39m\u001b[39m.\u001b[39m__data) \n\u001b[1;32m---> 28\u001b[0m Q \u001b[39m=\u001b[39m Queue()\n\u001b[0;32m     29\u001b[0m Q\u001b[39m.\u001b[39mprintQueue()\n\u001b[0;32m     30\u001b[0m Q\u001b[39m.\u001b[39menqueue(\u001b[39m10\u001b[39m)\n",
      "Cell \u001b[1;32mIn[8], line 3\u001b[0m, in \u001b[0;36mQueue.__init__\u001b[1;34m(self)\u001b[0m\n\u001b[0;32m      2\u001b[0m \u001b[39mdef\u001b[39;00m \u001b[39m__init__\u001b[39m(\u001b[39mself\u001b[39m):\n\u001b[1;32m----> 3\u001b[0m     \u001b[39mself\u001b[39m\u001b[39m.\u001b[39mdata \u001b[39m=\u001b[39m dequeue()\n",
      "\u001b[1;31mNameError\u001b[0m: name 'dequeue' is not defined"
     ]
    }
   ],
   "source": [
    "class Queue:\n",
    "    def __init__(self):\n",
    "        self.data = dequeue()\n",
    "        \n",
    "    def size(self):\n",
    "        return len(self.__data)\n",
    "\n",
    "    def enqueue(self, data):\n",
    "        self.__data.append(data)\n",
    "\n",
    "    def dequeue(self):\n",
    "      if self.isempty():\n",
    "        print(\"Queue is empty\")\n",
    "      else:\n",
    "          self.__data.popleft()\n",
    "    def peek(self):\n",
    "      if self.isempty():\n",
    "        print(\"Queue is empty\")\n",
    "      else:\n",
    "          return self.__data[0]      \n",
    "\n",
    "    def printQueue(self):\n",
    "       if self.isempty():\n",
    "        print(\"Queue is empty\")\n",
    "       else:\n",
    "        print(self.__data) \n",
    "\n",
    "Q = Queue()\n",
    "Q.printQueue()\n",
    "Q.enqueue(10)\n",
    "Q.enqueue(20)\n",
    "Q.printQueue()\n",
    "Q.enqueue(10)\n",
    "Q.dequeue()\n",
    "Q.enqueue(20)\n",
    "Q.printQueue()\n",
    "Q.enqueue(30)\n",
    "Q.enqueue(90)\n",
    "Q.enqueue(310)\n",
    "Q.dequeue()\n",
    "Q.printQueue()\n",
    "print( Q.peek())\n",
    "print( Q.size())\n"
   ]
  }
 ],
 "metadata": {
  "kernelspec": {
   "display_name": "Python 3",
   "language": "python",
   "name": "python3"
  },
  "language_info": {
   "codemirror_mode": {
    "name": "ipython",
    "version": 3
   },
   "file_extension": ".py",
   "mimetype": "text/x-python",
   "name": "python",
   "nbconvert_exporter": "python",
   "pygments_lexer": "ipython3",
   "version": "3.11.3"
  },
  "orig_nbformat": 4
 },
 "nbformat": 4,
 "nbformat_minor": 2
}
