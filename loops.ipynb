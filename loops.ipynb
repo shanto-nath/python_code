{
 "cells": [
  {
   "cell_type": "code",
   "execution_count": 1,
   "metadata": {},
   "outputs": [
    {
     "name": "stdout",
     "output_type": "stream",
     "text": [
      "Shanto"
     ]
    }
   ],
   "source": [
    "s = 'Shanto'\n",
    "\n",
    "for i in s:\n",
    "    print(i, end='')\n"
   ]
  },
  {
   "cell_type": "code",
   "execution_count": 14,
   "metadata": {},
   "outputs": [
    {
     "name": "stdout",
     "output_type": "stream",
     "text": [
      "Pyhton\n",
      "Java\n",
      "C#\n",
      "Html\n"
     ]
    }
   ],
   "source": [
    "programming = [\"Pyhton\",\"Java\",'C#',\"Html\"]\n",
    "\n",
    "for i in programming:\n",
    "    print(i)"
   ]
  },
  {
   "cell_type": "code",
   "execution_count": 16,
   "metadata": {},
   "outputs": [
    {
     "name": "stdout",
     "output_type": "stream",
     "text": [
      "Sum = 73\n",
      "Avg = 9.125\n"
     ]
    }
   ],
   "source": [
    "list_nums = [2,4,6,7,9,10,15,20]\n",
    "\n",
    "sum = 0\n",
    "for i in list_nums:\n",
    "    sum = sum + i\n",
    "\n",
    "print(\"Sum =\", sum)\n",
    "print('Avg =', sum/len(list_nums))"
   ]
  },
  {
   "cell_type": "code",
   "execution_count": 20,
   "metadata": {},
   "outputs": [
    {
     "name": "stdout",
     "output_type": "stream",
     "text": [
      "92\n"
     ]
    }
   ],
   "source": [
    "num = (10,12,14,17,19,20)\n",
    "sum = 0\n",
    "for i in num:\n",
    "    sum = sum + i\n",
    "\n",
    "print(sum)\n"
   ]
  },
  {
   "cell_type": "code",
   "execution_count": 21,
   "metadata": {},
   "outputs": [
    {
     "name": "stdout",
     "output_type": "stream",
     "text": [
      "10\n",
      "22\n",
      "36\n",
      "53\n",
      "72\n",
      "92\n"
     ]
    }
   ],
   "source": [
    "num = (10,12,14,17,19,20)\n",
    "sum = 0\n",
    "for i in num:\n",
    "    sum = sum + i\n",
    "    print(sum)\n",
    "\n"
   ]
  },
  {
   "cell_type": "code",
   "execution_count": 22,
   "metadata": {},
   "outputs": [
    {
     "name": "stdout",
     "output_type": "stream",
     "text": [
      "1\n",
      "2\n",
      "3\n",
      "4\n",
      "5\n",
      "6\n",
      "7\n",
      "8\n",
      "9\n"
     ]
    }
   ],
   "source": [
    "for i in range(1,10):\n",
    "    print(i)"
   ]
  },
  {
   "cell_type": "code",
   "execution_count": 4,
   "metadata": {},
   "outputs": [
    {
     "name": "stdout",
     "output_type": "stream",
     "text": [
      "Display value with a Step size of 7: 0\n",
      "Display value with a Step size of 7: 7\n",
      "Display value with a Step size of 7: 14\n"
     ]
    }
   ],
   "source": [
    "for i in range (0,16,7):\n",
    "    print(\"Display value with a Step size of 7:\", i)\n"
   ]
  },
  {
   "cell_type": "code",
   "execution_count": 1,
   "metadata": {},
   "outputs": [
    {
     "name": "stdout",
     "output_type": "stream",
     "text": [
      "6 * 1 = 6\n",
      "6 * 2 = 12\n",
      "6 * 3 = 18\n",
      "6 * 4 = 24\n",
      "6 * 5 = 30\n",
      "6 * 6 = 36\n",
      "6 * 7 = 42\n",
      "6 * 8 = 48\n",
      "6 * 9 = 54\n",
      "6 * 10 = 60\n"
     ]
    }
   ],
   "source": [
    "n = int(input('Enter the number: '))\n",
    "for i in range(1,11):\n",
    "    mul = n*i\n",
    "    print(n,\"*\",i,'=',mul)"
   ]
  },
  {
   "cell_type": "code",
   "execution_count": 9,
   "metadata": {},
   "outputs": [
    {
     "name": "stdout",
     "output_type": "stream",
     "text": [
      "We will display each letter of Apple\n",
      "A\n",
      "p\n",
      "p\n",
      "l\n",
      "e\n",
      "We will display each letter of Google\n",
      "G\n",
      "o\n",
      "o\n",
      "g\n",
      "l\n",
      "e\n",
      "We will display each letter of Amazon\n",
      "A\n",
      "m\n",
      "a\n",
      "z\n",
      "o\n",
      "n\n",
      "We will display each letter of Robi\n",
      "R\n",
      "o\n",
      "b\n",
      "i\n"
     ]
    }
   ],
   "source": [
    "companies = [\"Apple\",'Google','Amazon','Robi']\n",
    "for i in companies:\n",
    "    print(\"We will display each letter of\",i)\n",
    "    for letter in i:\n",
    "        print(letter)"
   ]
  },
  {
   "cell_type": "code",
   "execution_count": 13,
   "metadata": {},
   "outputs": [
    {
     "name": "stdout",
     "output_type": "stream",
     "text": [
      "No player found\n"
     ]
    }
   ],
   "source": [
    "player_name = input(\"Enter player name : \")\n",
    "goals = {'Messi' : 4, 'Ronaldo' : 7 , 'Shanto': 10}\n",
    "\n",
    "for player in goals:\n",
    "    if player == player_name:\n",
    "        print(goals[player])\n",
    "        break\n",
    "    \n",
    "else:\n",
    "    print(\"No player found\")\n",
    "\n",
    "\n"
   ]
  }
 ],
 "metadata": {
  "kernelspec": {
   "display_name": "Python 3",
   "language": "python",
   "name": "python3"
  },
  "language_info": {
   "codemirror_mode": {
    "name": "ipython",
    "version": 3
   },
   "file_extension": ".py",
   "mimetype": "text/x-python",
   "name": "python",
   "nbconvert_exporter": "python",
   "pygments_lexer": "ipython3",
   "version": "3.11.3"
  },
  "orig_nbformat": 4
 },
 "nbformat": 4,
 "nbformat_minor": 2
}
